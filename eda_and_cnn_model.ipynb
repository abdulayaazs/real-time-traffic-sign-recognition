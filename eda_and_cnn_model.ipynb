{
  "nbformat": 4,
  "nbformat_minor": 0,
  "metadata": {
    "colab": {
      "provenance": []
    },
    "kernelspec": {
      "name": "python3",
      "display_name": "Python 3"
    },
    "language_info": {
      "name": "python"
    }
  },
  "cells": [
    {
      "cell_type": "code",
      "execution_count": null,
      "metadata": {
        "id": "Y_rvMPZ0UKM8"
      },
      "outputs": [],
      "source": [
        "import numpy as np\n",
        "import pandas as pd\n",
        "import matplotlib.pyplot as plt\n",
        "import seaborn as sns\n",
        "import tensorflow as tf\n",
        "from tensorflow.keras.models import Sequential\n",
        "from tensorflow.keras.layers import Conv2D, MaxPooling2D, Flatten, Dense, Dropout\n",
        "from tensorflow.keras.utils import to_categorical\n",
        "from sklearn.model_selection import train_test_split\n",
        "import os\n",
        "from PIL import Image"
      ]
    },
    {
      "cell_type": "code",
      "source": [
        "# Define dataset path\n",
        "data_dir = '../data/traffic_signs_dataset/'  # adjust path accordingly\n",
        "\n",
        "# Initialize lists\n",
        "data = []\n",
        "labels = []\n",
        "\n",
        "# Assuming each class has its own folder\n",
        "classes = 43\n",
        "\n",
        "for i in range(classes):\n",
        "    path = os.path.join(data_dir, str(i))\n",
        "    images = os.listdir(path)\n",
        "\n",
        "    for img in images:\n",
        "        try:\n",
        "            image = Image.open(os.path.join(path, img))\n",
        "            image = image.resize((32,32))\n",
        "            image = np.array(image)\n",
        "            data.append(image)\n",
        "            labels.append(i)\n",
        "        except:\n",
        "            print(\"Error loading image:\", img)\n",
        "\n",
        "# Convert to numpy arrays\n",
        "data = np.array(data)\n",
        "labels = np.array(labels)"
      ],
      "metadata": {
        "id": "LBarXfunUMvH"
      },
      "execution_count": null,
      "outputs": []
    },
    {
      "cell_type": "code",
      "source": [
        "# Check dataset shape\n",
        "print(\"Data shape:\", data.shape)\n",
        "print(\"Labels shape:\", labels.shape)\n",
        "\n",
        "# Display sample images\n",
        "plt.figure(figsize=(10, 10))\n",
        "for i in range(12):\n",
        "    plt.subplot(3, 4, i+1)\n",
        "    plt.imshow(data[i])\n",
        "    plt.title(f\"Label: {labels[i]}\")\n",
        "    plt.axis('off')\n",
        "plt.tight_layout()\n",
        "plt.show()\n",
        "\n",
        "# Plot label distribution\n",
        "sns.countplot(labels)\n",
        "plt.title('Distribution of Traffic Sign Classes')\n",
        "plt.xlabel('Class ID')\n",
        "plt.ylabel('Frequency')\n",
        "plt.show()"
      ],
      "metadata": {
        "id": "B__BmTYjUQve"
      },
      "execution_count": null,
      "outputs": []
    },
    {
      "cell_type": "code",
      "source": [
        "# Normalize pixel values\n",
        "data = data / 255.0\n",
        "\n",
        "# One-hot encode labels\n",
        "labels = to_categorical(labels, num_classes=43)\n",
        "\n",
        "# Train-test split\n",
        "X_train, X_test, y_train, y_test = train_test_split(data, labels, test_size=0.2, random_state=42)"
      ],
      "metadata": {
        "id": "rps-_rcUURga"
      },
      "execution_count": null,
      "outputs": []
    },
    {
      "cell_type": "code",
      "source": [
        "model = Sequential([\n",
        "    Conv2D(32, (3,3), activation='relu', input_shape=(32,32,3)),\n",
        "    MaxPooling2D(2,2),\n",
        "    Conv2D(64, (3,3), activation='relu'),\n",
        "    MaxPooling2D(2,2),\n",
        "    Flatten(),\n",
        "    Dense(128, activation='relu'),\n",
        "    Dropout(0.5),\n",
        "    Dense(43, activation='softmax')\n",
        "])\n",
        "\n",
        "# Compile the model\n",
        "model.compile(optimizer='adam', loss='categorical_crossentropy', metrics=['accuracy'])\n",
        "\n",
        "model.summary()"
      ],
      "metadata": {
        "id": "2J_RIL1zUUlo"
      },
      "execution_count": null,
      "outputs": []
    },
    {
      "cell_type": "code",
      "source": [
        "history = model.fit(X_train, y_train, epochs=15, validation_data=(X_test, y_test), batch_size=64)\n"
      ],
      "metadata": {
        "id": "BcFPn10MUWd2"
      },
      "execution_count": null,
      "outputs": []
    },
    {
      "cell_type": "code",
      "source": [
        "# Plot training history\n",
        "plt.plot(history.history['accuracy'], label='Train Accuracy')\n",
        "plt.plot(history.history['val_accuracy'], label='Validation Accuracy')\n",
        "plt.legend()\n",
        "plt.title('Accuracy over epochs')\n",
        "plt.show()\n",
        "\n",
        "# Evaluate on test data\n",
        "test_loss, test_acc = model.evaluate(X_test, y_test)\n",
        "print(\"Test Accuracy: {:.2f}%\".format(test_acc * 100))"
      ],
      "metadata": {
        "id": "CTuv6p5OUX4J"
      },
      "execution_count": null,
      "outputs": []
    },
    {
      "cell_type": "code",
      "source": [
        "model.save(\"../models/traffic_sign_model.h5\")"
      ],
      "metadata": {
        "id": "4yHdCU36UZbB"
      },
      "execution_count": null,
      "outputs": []
    }
  ]
}